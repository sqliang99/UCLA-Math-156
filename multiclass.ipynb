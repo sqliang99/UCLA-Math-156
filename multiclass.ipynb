{
 "cells": [
  {
   "cell_type": "code",
   "execution_count": 28,
   "metadata": {},
   "outputs": [],
   "source": [
    "\n",
    "import numpy as np\n",
    "# from sklearn.utils.extmath import softmax\n",
    "from matplotlib import pyplot as plt\n",
    "import re\n",
    "from tqdm import trange\n",
    "from sklearn import metrics\n",
    "from sklearn.metrics import accuracy_score\n",
    "from sklearn.metrics import confusion_matrix\n",
    "from mpl_toolkits.axes_grid1 import make_axes_locatable\n",
    "import pandas as pd\n",
    "from sklearn.datasets import fetch_openml\n",
    "\n",
    "plt.rcParams['font.family'] = 'serif'\n",
    "plt.rcParams['font.serif'] = ['Times New Roman'] + plt.rcParams['font.serif']"
   ]
  },
  {
   "cell_type": "code",
   "execution_count": 29,
   "metadata": {},
   "outputs": [],
   "source": [
    "import sys\n",
    "sys.path.append(\"../\")\n",
    "from src.CNN import CNN, compute_accuracy_metrics, multiclass_accuracy_metrics, list2onehot, onehot2list"
   ]
  },
  {
   "cell_type": "code",
   "execution_count": 30,
   "metadata": {},
   "outputs": [
    {
     "name": "stdout",
     "output_type": "stream",
     "text": [
      "X.shape (70000, 784)\n",
      "y.shape (70000,)\n"
     ]
    },
    {
     "data": {
      "text/plain": [
       "'\\nEach row of X is a vectroization of an image of 28 x 28 = 784 pixels.  \\nThe corresponding row of y holds the true class label from {0,1, .. , 9}.\\n'"
      ]
     },
     "execution_count": 30,
     "metadata": {},
     "output_type": "execute_result"
    }
   ],
   "source": [
    "import random as random\n",
    "\n",
    "# Load data from https://www.openml.org/d/554\n",
    "X, y = fetch_openml('mnist_784', version=1, return_X_y=True)\n",
    "# X = X.values  ### Uncomment this line if you are having type errors in plotting. It is loading as a pandas dataframe, but our indexing is for numpy array. \n",
    "X = X / 255.\n",
    "\n",
    "#since the datasize is too big, I am just going to subsample them. \n",
    "\n",
    "#randomlist = random.sample(range(0, 70000), 3000)\n",
    "\n",
    "#X=X[randomlist]\n",
    "#y=y[randomlist]\n",
    "print('X.shape', X.shape)\n",
    "print('y.shape', y.shape)\n",
    "\n",
    "'''\n",
    "Each row of X is a vectroization of an image of 28 x 28 = 784 pixels.  \n",
    "The corresponding row of y holds the true class label from {0,1, .. , 9}.\n",
    "'''"
   ]
  },
  {
   "cell_type": "code",
   "execution_count": 31,
   "metadata": {},
   "outputs": [],
   "source": [
    "def random_padding(img, thickness=1):\n",
    "    # img = a x b image \n",
    "    [a,b] = img.shape\n",
    "    Y = np.zeros(shape=[a+thickness, b+thickness])\n",
    "    r_loc = np.random.choice(np.arange(thickness+1))\n",
    "    c_loc = np.random.choice(np.arange(thickness+1))\n",
    "    Y[r_loc:r_loc+a, c_loc:c_loc+b] = img\n",
    "    return Y"
   ]
  },
  {
   "cell_type": "code",
   "execution_count": 32,
   "metadata": {},
   "outputs": [],
   "source": [
    "\n",
    "def sample_multiclass_MNIST_padding(list_digits=['0','1', '2'], full_MNIST=[X,y], padding_thickness=10):\n",
    "    # get train and test set from MNIST of given digits\n",
    "    # e.g., list_digits = ['0', '1', '2']\n",
    "    # pad each 28 x 28 image with zeros so that it has now \"padding_thickness\" more rows and columns\n",
    "    # The original image is superimposed at a uniformly chosen location \n",
    "    if full_MNIST is not None:\n",
    "        X, y = full_MNIST\n",
    "    else:\n",
    "        X, y = fetch_openml('mnist_784', version=1, return_X_y=True)\n",
    "        X = X / 255.\n",
    "    Y = list2onehot(y.tolist(), list_digits)\n",
    "    \n",
    "    idx = [i for i in np.arange(len(y)) if y[i] in list_digits] # list of indices where the label y is in list_digits\n",
    "    \n",
    "    X01 = X[idx,:]\n",
    "    y01 = Y[idx,:]\n",
    "\n",
    "    X_train = []\n",
    "    X_test = []\n",
    "    y_test = [] # list of one-hot encodings (indicator vectors) of each label  \n",
    "    y_train = [] # list of one-hot encodings (indicator vectors) of each label  \n",
    "\n",
    "    for i in trange(X01.shape[0]):\n",
    "        # for each example i, make it into train set with probabiliy 0.8 and into test set otherwise \n",
    "        U = np.random.rand() # Uniform([0,1]) variable\n",
    "        img_padded = random_padding(X01[i,:].reshape(28,28), thickness=padding_thickness)\n",
    "        img_padded_vec = img_padded.reshape(1,-1)\n",
    "        if U<0.8:\n",
    "            X_train.append(img_padded_vec[0,:].copy())\n",
    "            y_train.append(y01[i,:].copy())\n",
    "        else:\n",
    "            X_test.append(img_padded_vec[0,:].copy())\n",
    "            y_test.append(y01[i,:].copy())\n",
    "\n",
    "    X_train = np.asarray(X_train)\n",
    "    X_test = np.asarray(X_test)\n",
    "    y_train = np.asarray(y_train)\n",
    "    y_test = np.asarray(y_test)\n",
    "    return X_train, X_test, y_train, y_test"
   ]
  },
  {
   "cell_type": "code",
   "execution_count": 33,
   "metadata": {},
   "outputs": [],
   "source": [
    "#multiclass logistic regression\n",
    "def fit_MLR_GD(Y, H, W0=None, sub_iter=100, stopping_diff=0.01):\n",
    "        '''\n",
    "        Convex optimization algorithm for Multiclass Logistic Regression using Gradient Descent \n",
    "        Y = (n x k), H = (p x n) (\\Phi in lecture note), W = (p x k)\n",
    "        Multiclass Logistic Regression: Y ~ vector of discrete RVs with PMF = sigmoid(H.T @ W)\n",
    "        MLE -->\n",
    "        Find \\hat{W} = argmin_W ( sum_j ( log(1+exp(H_j.T @ W) ) - Y.T @ H.T @ W ) )\n",
    "        '''\n",
    "        k = Y.shape[1] # number of classes \n",
    "        if W0 is None:\n",
    "            W0 = np.random.rand(H.shape[0],k) #If initial coefficients W0 is None, randomly initialize  \n",
    "            \n",
    "        W1 = W0.copy()\n",
    "        i = 0\n",
    "        grad = np.ones(W0.shape)\n",
    "        while (i < sub_iter) and (np.linalg.norm(grad) > stopping_diff):\n",
    "            Q = 1/(1+np.exp(-H.T @ W1))  # probability matrix, same shape as Y\n",
    "            # grad = H @ (Q - Y).T + alpha * np.ones(W0.shape[1])\n",
    "            grad = H @ (Q - Y)\n",
    "            W1 = W1 - (np.log(i+1) / (((i + 1) ** (0.5)))) * grad\n",
    "            i = i + 1\n",
    "            # print('iter %i, grad_norm %f' %(i, np.linalg.norm(grad)))\n",
    "        return W1\n"
   ]
  },
  {
   "cell_type": "code",
   "execution_count": 34,
   "metadata": {},
   "outputs": [
    {
     "name": "stderr",
     "output_type": "stream",
     "text": [
      "100%|█████████████████████████████████████████████████████████████████████████| 35735/35735 [00:00<00:00, 36795.91it/s]\n",
      "<ipython-input-33-a2dc3c5a0d40>:18: RuntimeWarning: overflow encountered in exp\n",
      "  Q = 1/(1+np.exp(-H.T @ W1))  # probability matrix, same shape as Y\n"
     ]
    },
    {
     "name": "stdout",
     "output_type": "stream",
     "text": [
      "!!! confusion_mx [[ 7  0  0  0  0]\n",
      " [ 0 11  0  0  0]\n",
      " [ 0  0 12  0  0]\n",
      " [ 0  0  0  9  0]\n",
      " [ 0  0  0  0 11]]\n",
      "!!! Accuracy 1.0\n",
      "!!! confusion_mx [[1194    0   60   61   42]\n",
      " [   0 1530   14   29    5]\n",
      " [  24   47 1152  110  117]\n",
      " [  24   25   69 1259   75]\n",
      " [   6   11    5    9 1340]]\n",
      "!!! Accuracy 0.89830743618202\n"
     ]
    },
    {
     "name": "stderr",
     "output_type": "stream",
     "text": [
      "100%|█████████████████████████████████████████████████████████████████████████| 35735/35735 [00:01<00:00, 29986.31it/s]\n"
     ]
    },
    {
     "name": "stdout",
     "output_type": "stream",
     "text": [
      "!!! confusion_mx [[11  0  0  0  0]\n",
      " [ 0 13  0  0  0]\n",
      " [ 0  0  8  0  0]\n",
      " [ 0  0  0  8  0]\n",
      " [ 0  0  0  0 10]]\n",
      "!!! Accuracy 1.0\n",
      "!!! confusion_mx [[913  88 226  65 113]\n",
      " [210 965 177  15 166]\n",
      " [300 214 600  86 244]\n",
      " [403 220 281 325 140]\n",
      " [150 264  76  18 828]]\n",
      "!!! Accuracy 0.5123465500211655\n"
     ]
    },
    {
     "name": "stderr",
     "output_type": "stream",
     "text": [
      "100%|█████████████████████████████████████████████████████████████████████████| 35735/35735 [00:01<00:00, 29014.26it/s]\n"
     ]
    },
    {
     "name": "stdout",
     "output_type": "stream",
     "text": [
      "!!! confusion_mx [[10  0  0  0  0]\n",
      " [ 0 11  0  0  0]\n",
      " [ 0  0  7  0  0]\n",
      " [ 0  0  0 17  0]\n",
      " [ 0  0  0  0  5]]\n",
      "!!! Accuracy 1.0\n",
      "!!! confusion_mx [[357 149 239 631  41]\n",
      " [298 529  52 622  76]\n",
      " [253 236 225 687  21]\n",
      " [223 256 121 757  35]\n",
      " [233 340 156 497 102]]\n",
      "!!! Accuracy 0.27606502242152464\n"
     ]
    },
    {
     "name": "stderr",
     "output_type": "stream",
     "text": [
      "100%|█████████████████████████████████████████████████████████████████████████| 35735/35735 [00:01<00:00, 24133.75it/s]\n"
     ]
    },
    {
     "name": "stdout",
     "output_type": "stream",
     "text": [
      "!!! confusion_mx [[12  0  0  0  0]\n",
      " [ 0  8  0  0  0]\n",
      " [ 0  0 10  0  0]\n",
      " [ 0  0  0 12  0]\n",
      " [ 0  0  0  0  8]]\n",
      "!!! Accuracy 1.0\n",
      "!!! confusion_mx [[522  20 166 457 234]\n",
      " [510 136 218 482 228]\n",
      " [470  32 189 505 196]\n",
      " [494  15 146 581 227]\n",
      " [487  39 170 399 265]]\n",
      "!!! Accuracy 0.23553144129104062\n"
     ]
    },
    {
     "name": "stderr",
     "output_type": "stream",
     "text": [
      "100%|█████████████████████████████████████████████████████████████████████████| 35735/35735 [00:01<00:00, 31567.61it/s]\n"
     ]
    },
    {
     "name": "stdout",
     "output_type": "stream",
     "text": [
      "!!! confusion_mx [[21  0  0  0  0]\n",
      " [ 0 26  0  0  0]\n",
      " [ 0  0 19  0  0]\n",
      " [ 0  0  0 16  0]\n",
      " [ 0  0  0  0 18]]\n",
      "!!! Accuracy 1.0\n",
      "!!! confusion_mx [[1318    1    1   22    1]\n",
      " [   2 1598   22   22    1]\n",
      " [ 151   58 1117   61   41]\n",
      " [ 124   25   41 1251    9]\n",
      " [  31   23   23   45 1273]]\n",
      "!!! Accuracy 0.903043657898361\n"
     ]
    },
    {
     "name": "stderr",
     "output_type": "stream",
     "text": [
      "100%|█████████████████████████████████████████████████████████████████████████| 35735/35735 [00:01<00:00, 28431.08it/s]\n"
     ]
    },
    {
     "name": "stdout",
     "output_type": "stream",
     "text": [
      "!!! confusion_mx [[21  0  0  0  0]\n",
      " [ 0 17  0  0  0]\n",
      " [ 0  0 15  0  0]\n",
      " [ 0  0  0 21  0]\n",
      " [ 0  0  0  0 26]]\n",
      "!!! Accuracy 1.0\n",
      "!!! confusion_mx [[954  48 139 108 122]\n",
      " [193 867 137 250 131]\n",
      " [206 114 523 246 307]\n",
      " [287 143 255 626 112]\n",
      " [126  79 142  35 955]]\n",
      "!!! Accuracy 0.5524278676988037\n"
     ]
    },
    {
     "name": "stderr",
     "output_type": "stream",
     "text": [
      "100%|█████████████████████████████████████████████████████████████████████████| 35735/35735 [00:01<00:00, 28604.84it/s]\n"
     ]
    },
    {
     "name": "stdout",
     "output_type": "stream",
     "text": [
      "!!! confusion_mx [[20  0  0  0  0]\n",
      " [ 0 22  0  0  0]\n",
      " [ 0  0 22  0  0]\n",
      " [ 0  0  0 19  0]\n",
      " [ 0  0  0  0 17]]\n",
      "!!! Accuracy 1.0\n",
      "!!! confusion_mx [[606 284 279 115  59]\n",
      " [303 696 297 127 130]\n",
      " [461 291 393 178  90]\n",
      " [366 385 299 261  87]\n",
      " [364 375 231  99 320]]\n",
      "!!! Accuracy 0.32074408117249154\n"
     ]
    },
    {
     "name": "stderr",
     "output_type": "stream",
     "text": [
      "100%|█████████████████████████████████████████████████████████████████████████| 35735/35735 [00:01<00:00, 23752.52it/s]\n"
     ]
    },
    {
     "name": "stdout",
     "output_type": "stream",
     "text": [
      "!!! confusion_mx [[24  0  0  0  0]\n",
      " [ 0 16  0  0  0]\n",
      " [ 0  0 24  0  0]\n",
      " [ 0  0  0 19  0]\n",
      " [ 0  0  0  0 17]]\n",
      "!!! Accuracy 1.0\n",
      "!!! confusion_mx [[749 107 270 212  61]\n",
      " [537 338 252 276 180]\n",
      " [617  60 327 301  89]\n",
      " [587  90 271 316 105]\n",
      " [570 144 229 259 205]]\n",
      "!!! Accuracy 0.27055369127516776\n"
     ]
    },
    {
     "name": "stderr",
     "output_type": "stream",
     "text": [
      "100%|█████████████████████████████████████████████████████████████████████████| 35735/35735 [00:00<00:00, 36055.71it/s]\n"
     ]
    },
    {
     "name": "stdout",
     "output_type": "stream",
     "text": [
      "!!! confusion_mx [[24  0  0  0  0]\n",
      " [ 0 41  0  0  0]\n",
      " [ 0  0 52  0  0]\n",
      " [ 0  0  0 41  0]\n",
      " [ 0  0  0  0 42]]\n",
      "!!! Accuracy 1.0\n",
      "!!! confusion_mx [[1285    0   24  115    1]\n",
      " [   0 1485   53   26    0]\n",
      " [  14   14 1231  108   26]\n",
      " [   1   10   56 1383    8]\n",
      " [   6   25   35  102 1147]]\n",
      "!!! Accuracy 0.9127882599580712\n"
     ]
    },
    {
     "name": "stderr",
     "output_type": "stream",
     "text": [
      "100%|█████████████████████████████████████████████████████████████████████████| 35735/35735 [00:01<00:00, 30186.07it/s]\n"
     ]
    },
    {
     "name": "stdout",
     "output_type": "stream",
     "text": [
      "!!! confusion_mx [[32  0  0  0  0]\n",
      " [ 0 54  0  0  0]\n",
      " [ 0  0 30  0  0]\n",
      " [ 0  0  0 43  0]\n",
      " [ 0  0  0  0 41]]\n",
      "!!! Accuracy 1.0\n",
      "!!! confusion_mx [[ 930   58  159  113  131]\n",
      " [  83 1244   22  147   49]\n",
      " [ 144  138  638  339  206]\n",
      " [ 163  178  199  807   97]\n",
      " [  75  192   97  112  905]]\n",
      "!!! Accuracy 0.6260725159147523\n"
     ]
    },
    {
     "name": "stderr",
     "output_type": "stream",
     "text": [
      "100%|█████████████████████████████████████████████████████████████████████████| 35735/35735 [00:01<00:00, 27274.40it/s]\n"
     ]
    },
    {
     "name": "stdout",
     "output_type": "stream",
     "text": [
      "!!! confusion_mx [[37  0  0  0  0]\n",
      " [ 0 48  0  0  0]\n",
      " [ 0  0 38  0  0]\n",
      " [ 0  0  0 41  0]\n",
      " [ 0  0  0  0 36]]\n",
      "!!! Accuracy 1.0\n",
      "!!! confusion_mx [[541 118 312 250 192]\n",
      " [132 910 151 177 194]\n",
      " [286 191 369 350 217]\n",
      " [293 240 276 515 172]\n",
      " [174 232 176 249 561]]\n",
      "!!! Accuracy 0.39791151415223963\n"
     ]
    },
    {
     "name": "stderr",
     "output_type": "stream",
     "text": [
      "100%|█████████████████████████████████████████████████████████████████████████| 35735/35735 [00:01<00:00, 24574.76it/s]\n"
     ]
    },
    {
     "name": "stdout",
     "output_type": "stream",
     "text": [
      "!!! confusion_mx [[37  0  0  0  0]\n",
      " [ 0 47  0  0  0]\n",
      " [ 0  0 38  0  0]\n",
      " [ 0  0  0 41  0]\n",
      " [ 0  0  0  0 37]]\n",
      "!!! Accuracy 1.0\n",
      "!!! confusion_mx [[435 167 371 290 155]\n",
      " [136 749 154 328 169]\n",
      " [243 175 422 347 239]\n",
      " [252 210 352 416 196]\n",
      " [249 258 271 349 235]]\n",
      "!!! Accuracy 0.3148716517857143\n"
     ]
    },
    {
     "data": {
      "image/png": "[encoded data removed]",
      "text/plain": [
       "<Figure size 936x360 with 3 Axes>"
      ]
     },
     "metadata": {
      "needs_background": "light"
     },
     "output_type": "display_data"
    }
   ],
   "source": [
    "from sklearn.utils.extmath import softmax\n",
    "list_digits=['0', '1', '2','3','4']\n",
    "padding_list=[0,7,13,20]\n",
    "train_size_list=[50,100,200]\n",
    "\n",
    "\n",
    "#make plot\n",
    "ncols = len(train_size_list)\n",
    "fig, ax =plt.subplots(nrows=1, ncols=ncols, figsize=[13,5])\n",
    "\n",
    "for t in np.arange(len(train_size_list)):\n",
    "    accuracy_list_test = []\n",
    "    accuracy_list_train = []\n",
    "    \n",
    "    train_size = train_size_list[t]\n",
    "    \n",
    "    for thickness in padding_list:\n",
    "        X_train, X_test, y_train, y_test = sample_multiclass_MNIST_padding(list_digits=list_digits, full_MNIST = [X,y], padding_thickness=thickness)\n",
    "        idx = np.random.choice(np.arange(len(y_train)),train_size)\n",
    "        X_train0 = X_train[idx,:]/np.max(X_train)\n",
    "        y_train0 = y_train[idx,:]\n",
    "        H_train = np.vstack((np.ones(X_train0.shape[0]), X_train0.T))  # add first row of 1's for bias features \n",
    "        W = fit_MLR_GD(Y=y_train0, H=H_train)\n",
    "        Q_train = softmax(H_train.T @ W.copy())\n",
    "        H_test = np.vstack((np.ones(X_test.shape[0]), X_test.T))\n",
    "        Q_test = softmax(H_test.T @ W.copy()) # predicted probabilities for y_test # Uses sklearn's softmax for numerical stability\n",
    "\n",
    "        results_train = multiclass_accuracy_metrics(Y_test=y_train0, P_pred=Q_train)\n",
    "        results_test = multiclass_accuracy_metrics(Y_test=y_test, P_pred=Q_test)\n",
    "        \n",
    "        accuracy_list_train.append(results_train.get('Accuracy'))\n",
    "        accuracy_list_test.append(results_test.get('Accuracy'))\n",
    "        \n",
    "    ax[t].plot(padding_list, accuracy_list_train, color='blue', label=\"train accuracy\")\n",
    "    ax[t].plot(padding_list, accuracy_list_test, color='red', label=\"test accuracy\")\n",
    "    ax[t].set_xlabel('Padding thickness', fontsize=15)\n",
    "    ax[t].set_ylabel('Classification Accuracy', fontsize=15)\n",
    "    ax[t].title.set_text(\"num training ex = %i\" % (train_size)) \n",
    "    ax[t].legend(fontsize=15)\n",
    "\n",
    "plt.tight_layout(rect=[0, 0.03, 1, 0.9])"
   ]
  },
  {
   "cell_type": "code",
   "execution_count": null,
   "metadata": {},
   "outputs": [],
   "source": []
  }
 ],
 "metadata": {
  "kernelspec": {
   "display_name": "Python 3",
   "language": "python",
   "name": "python3"
  },
  "language_info": {
   "codemirror_mode": {
    "name": "ipython",
    "version": 3
   },
   "file_extension": ".py",
   "mimetype": "text/x-python",
   "name": "python",
   "nbconvert_exporter": "python",
   "pygments_lexer": "ipython3",
   "version": "3.8.3"
  }
 },
 "nbformat": 4,
 "nbformat_minor": 4
}
